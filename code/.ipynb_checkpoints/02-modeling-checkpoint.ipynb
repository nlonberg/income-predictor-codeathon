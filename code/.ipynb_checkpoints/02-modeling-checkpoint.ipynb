{
 "cells": [
  {
   "cell_type": "code",
   "execution_count": 10,
   "metadata": {},
   "outputs": [],
   "source": [
    "%run code/helper_functions.ipynb"
   ]
  },
  {
   "cell_type": "markdown",
   "metadata": {},
   "source": [
    "# MODELING"
   ]
  },
  {
   "cell_type": "code",
   "execution_count": 11,
   "metadata": {},
   "outputs": [],
   "source": [
    "# Reading in our training data that we have cleaned\n",
    "\n",
    "df = pd.read_csv(\"data/train_CLEAN.csv\")"
   ]
  },
  {
   "cell_type": "code",
   "execution_count": 12,
   "metadata": {},
   "outputs": [],
   "source": [
    "# features list\n",
    "features = ['age', 'education-num', 'capital-gain',\n",
    "       'capital-loss', 'hours-per-week', 'is_usa',\n",
    "       'is_top7_occ','is_married', 'is_male',\n",
    "       'is_high_ed']\n",
    "\n",
    "# target variable\n",
    "target = 'wage'\n",
    "\n",
    "X = df[features]\n",
    "y = df[target]\n",
    "\n",
    "X_train, X_test, y_train, y_test = train_test_split(X, y, random_state=42, stratify=y)"
   ]
  },
  {
   "cell_type": "markdown",
   "metadata": {},
   "source": [
    "## Baseline Model"
   ]
  },
  {
   "cell_type": "code",
   "execution_count": 13,
   "metadata": {},
   "outputs": [
    {
     "data": {
      "text/plain": [
       "0    0.759173\n",
       "1    0.240827\n",
       "Name: wage, dtype: float64"
      ]
     },
     "execution_count": 13,
     "metadata": {},
     "output_type": "execute_result"
    }
   ],
   "source": [
    "# Our baseline score to measure our stats against\n",
    "\n",
    "y_train.value_counts(normalize=True)"
   ]
  },
  {
   "cell_type": "markdown",
   "metadata": {},
   "source": [
    "### Set up Pipelines & Instantiate Models for a Gridsearch"
   ]
  },
  {
   "cell_type": "code",
   "execution_count": 15,
   "metadata": {},
   "outputs": [],
   "source": [
    "gsc = GridSearchContainer(X,y)"
   ]
  },
  {
   "cell_type": "code",
   "execution_count": 21,
   "metadata": {},
   "outputs": [],
   "source": [
    "# Logistic Regression\n",
    "lr = LogisticRegression()\n",
    "\n",
    "# K-Nearest Neighbors Classifier\n",
    "knn = Pipeline([\n",
    "    ('ss', StandardScaler()),\n",
    "    ('knn', KNeighborsClassifier())\n",
    "])\n",
    "\n",
    "# Decision Tree Classifier\n",
    "dt = DecisionTreeClassifier()\n",
    "\n",
    "# Bagged Trees Classifier\n",
    "bag = BaggingClassifier()\n",
    "\n",
    "# Random Forest Classifier\n",
    "rf = RandomForestClassifier()\n",
    "\n",
    "# Support Vector Classifier\n",
    "svc = Pipeline([\n",
    "    ('ss', StandardScaler()),\n",
    "    ('svc', SVC())\n",
    "])\n",
    "\n",
    "# Ada Boost Classifier\n",
    "ada = AdaBoostClassifier()"
   ]
  },
  {
   "cell_type": "code",
   "execution_count": 22,
   "metadata": {},
   "outputs": [
    {
     "name": "stderr",
     "output_type": "stream",
     "text": [
      "/Users/tonylucci/anaconda3/lib/python3.6/site-packages/sklearn/linear_model/_logistic.py:764: ConvergenceWarning: lbfgs failed to converge (status=1):\n",
      "STOP: TOTAL NO. of ITERATIONS REACHED LIMIT.\n",
      "\n",
      "Increase the number of iterations (max_iter) or scale the data as shown in:\n",
      "    https://scikit-learn.org/stable/modules/preprocessing.html\n",
      "Please also refer to the documentation for alternative solver options:\n",
      "    https://scikit-learn.org/stable/modules/linear_model.html#logistic-regression\n",
      "  extra_warning_msg=_LOGISTIC_SOLVER_CONVERGENCE_MSG)\n"
     ]
    },
    {
     "name": "stdout",
     "output_type": "stream",
     "text": [
      "Logistic Regression:\n",
      "Train: 0.8162981162981163\n",
      "Test: 0.8212750276378823\n",
      "\n",
      "KNeighbors:\n",
      "Train: 0.8744881244881245\n",
      "Test: 0.8374892519346517\n",
      "\n",
      "Decision Tree:\n",
      "Train: 0.9362407862407862\n",
      "Test: 0.8244687384842156\n",
      "\n",
      "Bagged Trees:\n",
      "Train: 0.9292792792792792\n",
      "Test: 0.837612086967203\n",
      "\n",
      "Random Forest:\n",
      "Train: 0.9361998361998362\n",
      "Test: 0.842771158334357\n",
      "\n",
      "Ada Boost:\n",
      "Train: 0.8570434070434071\n",
      "Test: 0.859231052696229\n",
      "\n",
      "Support Vector:\n",
      "Train: 0.8507780507780508\n",
      "Test: 0.8527207959710109\n",
      "\n"
     ]
    }
   ],
   "source": [
    "get_accuracy(lr, \"Logistic Regression\", X_train, X_test, y_train, y_test)\n",
    "get_accuracy(knn, \"KNeighbors\", X_train, X_test, y_train, y_test)\n",
    "get_accuracy(dt, \"Decision Tree\", X_train, X_test, y_train, y_test)\n",
    "get_accuracy(bag, \"Bagged Trees\", X_train, X_test, y_train, y_test)\n",
    "get_accuracy(rf, \"Random Forest\", X_train, X_test, y_train, y_test)\n",
    "get_accuracy(ada, \"Ada Boost\", X_train, X_test, y_train, y_test)\n",
    "get_accuracy(svc, \"Support Vector\", X_train, X_test, y_train, y_test)"
   ]
  },
  {
   "cell_type": "code",
   "execution_count": 28,
   "metadata": {},
   "outputs": [],
   "source": [
    "params_lr = {\n",
    "    'C' : [0.1, 1.0, 10],\n",
    "    'fit_intercept' : [True, False],\n",
    "    'intercept_scaling' : [1],\n",
    "    'class_weight' : [None, 'balanced'],\n",
    "    'random_state' : [42],\n",
    "    'solver' : ['liblinear']\n",
    "}\n",
    "\n",
    "params_dt = {\n",
    "    'max_depth' : [None],\n",
    "#    'min_samples_split' : [0.1, 0.5, 1.0],\n",
    "    'min_samples_leaf' : [1, 2, 3],\n",
    "    'ccp_alpha' : np.linspace(0,5,50)\n",
    "}\n",
    "\n",
    "params_rf = {\n",
    "    'n_estimators' : [100],\n",
    "    'max_depth' : [None],\n",
    "#    'min_samples_split' : [1, 2, 3],\n",
    "    'min_samples_leaf' : [1, 2, 3],\n",
    "    'ccp_alpha' : [0.0, 5, 50, 500]\n",
    "}\n",
    "\n",
    "params_bag = {\n",
    "    'n_estimators' : [5, 10, 100]\n",
    "}\n",
    "\n",
    "params_knn = {\n",
    "    'knn__n_neighbors' : [1, 3, 5, 11, 21],\n",
    "    'knn__weights' : ['uniform', 'distance'],\n",
    "    'knn__leaf_size' : [30],\n",
    "    'knn__p' : [1, 2]\n",
    "}\n",
    "\n",
    "\n",
    "params_svc = {\n",
    "    'svc__C' : [0.1, 1, 10],\n",
    "    'svc__kernel' : ['linear', 'rbf']\n",
    "}"
   ]
  },
  {
   "cell_type": "code",
   "execution_count": 42,
   "metadata": {},
   "outputs": [
    {
     "name": "stdout",
     "output_type": "stream",
     "text": [
      "Train accuracy: 0.8441850941850941\n",
      "Test accuracy: 0.8497727551897801\n"
     ]
    },
    {
     "data": {
      "text/html": [
       "<div>\n",
       "<style scoped>\n",
       "    .dataframe tbody tr th:only-of-type {\n",
       "        vertical-align: middle;\n",
       "    }\n",
       "\n",
       "    .dataframe tbody tr th {\n",
       "        vertical-align: top;\n",
       "    }\n",
       "\n",
       "    .dataframe thead th {\n",
       "        text-align: right;\n",
       "    }\n",
       "</style>\n",
       "<table border=\"1\" class=\"dataframe\">\n",
       "  <thead>\n",
       "    <tr style=\"text-align: right;\">\n",
       "      <th></th>\n",
       "      <th>C</th>\n",
       "      <th>class_weight</th>\n",
       "      <th>fit_intercept</th>\n",
       "      <th>intercept_scaling</th>\n",
       "      <th>random_state</th>\n",
       "      <th>solver</th>\n",
       "      <th>accuracy</th>\n",
       "    </tr>\n",
       "  </thead>\n",
       "  <tbody>\n",
       "    <tr>\n",
       "      <th>logreg_0</th>\n",
       "      <td>10</td>\n",
       "      <td>None</td>\n",
       "      <td>True</td>\n",
       "      <td>1</td>\n",
       "      <td>42</td>\n",
       "      <td>liblinear</td>\n",
       "      <td>0.843735</td>\n",
       "    </tr>\n",
       "  </tbody>\n",
       "</table>\n",
       "</div>"
      ],
      "text/plain": [
       "           C class_weight  fit_intercept  intercept_scaling  random_state  \\\n",
       "logreg_0  10         None           True                  1            42   \n",
       "\n",
       "             solver  accuracy  \n",
       "logreg_0  liblinear  0.843735  "
      ]
     },
     "execution_count": 42,
     "metadata": {},
     "output_type": "execute_result"
    }
   ],
   "source": [
    "gsc.search(lr, params_lr, mod_name=\"logreg\")\n",
    "gsc.model_df.head()"
   ]
  },
  {
   "cell_type": "code",
   "execution_count": 57,
   "metadata": {},
   "outputs": [
    {
     "name": "stdout",
     "output_type": "stream",
     "text": [
      "Train accuracy: 0.8998771498771498\n",
      "Test accuracy: 0.8408057978135364\n"
     ]
    },
    {
     "data": {
      "text/html": [
       "<div>\n",
       "<style scoped>\n",
       "    .dataframe tbody tr th:only-of-type {\n",
       "        vertical-align: middle;\n",
       "    }\n",
       "\n",
       "    .dataframe tbody tr th {\n",
       "        vertical-align: top;\n",
       "    }\n",
       "\n",
       "    .dataframe thead th {\n",
       "        text-align: right;\n",
       "    }\n",
       "</style>\n",
       "<table border=\"1\" class=\"dataframe\">\n",
       "  <thead>\n",
       "    <tr style=\"text-align: right;\">\n",
       "      <th></th>\n",
       "      <th>C</th>\n",
       "      <th>class_weight</th>\n",
       "      <th>fit_intercept</th>\n",
       "      <th>intercept_scaling</th>\n",
       "      <th>random_state</th>\n",
       "      <th>solver</th>\n",
       "      <th>accuracy</th>\n",
       "      <th>ccp_alpha</th>\n",
       "      <th>max_depth</th>\n",
       "      <th>min_samples_leaf</th>\n",
       "      <th>min_samples_split</th>\n",
       "      <th>n_estimators</th>\n",
       "    </tr>\n",
       "  </thead>\n",
       "  <tbody>\n",
       "    <tr>\n",
       "      <th>decision_tree_1</th>\n",
       "      <td>NaN</td>\n",
       "      <td>NaN</td>\n",
       "      <td>NaN</td>\n",
       "      <td>NaN</td>\n",
       "      <td>NaN</td>\n",
       "      <td>NaN</td>\n",
       "      <td>0.849918</td>\n",
       "      <td>0.0</td>\n",
       "      <td>NaN</td>\n",
       "      <td>1.0</td>\n",
       "      <td>0.1</td>\n",
       "      <td>NaN</td>\n",
       "    </tr>\n",
       "    <tr>\n",
       "      <th>logreg_0</th>\n",
       "      <td>10.0</td>\n",
       "      <td>NaN</td>\n",
       "      <td>True</td>\n",
       "      <td>1.0</td>\n",
       "      <td>42.0</td>\n",
       "      <td>liblinear</td>\n",
       "      <td>0.843735</td>\n",
       "      <td>NaN</td>\n",
       "      <td>NaN</td>\n",
       "      <td>NaN</td>\n",
       "      <td>NaN</td>\n",
       "      <td>NaN</td>\n",
       "    </tr>\n",
       "    <tr>\n",
       "      <th>decision_tree_3</th>\n",
       "      <td>NaN</td>\n",
       "      <td>NaN</td>\n",
       "      <td>NaN</td>\n",
       "      <td>NaN</td>\n",
       "      <td>NaN</td>\n",
       "      <td>NaN</td>\n",
       "      <td>0.837633</td>\n",
       "      <td>0.0</td>\n",
       "      <td>NaN</td>\n",
       "      <td>3.0</td>\n",
       "      <td>NaN</td>\n",
       "      <td>NaN</td>\n",
       "    </tr>\n",
       "    <tr>\n",
       "      <th>random_forest_2</th>\n",
       "      <td>NaN</td>\n",
       "      <td>NaN</td>\n",
       "      <td>NaN</td>\n",
       "      <td>NaN</td>\n",
       "      <td>NaN</td>\n",
       "      <td>NaN</td>\n",
       "      <td>0.759173</td>\n",
       "      <td>5.0</td>\n",
       "      <td>NaN</td>\n",
       "      <td>1.0</td>\n",
       "      <td>0.1</td>\n",
       "      <td>1.0</td>\n",
       "    </tr>\n",
       "  </tbody>\n",
       "</table>\n",
       "</div>"
      ],
      "text/plain": [
       "                    C  class_weight fit_intercept  intercept_scaling  \\\n",
       "decision_tree_1   NaN           NaN           NaN                NaN   \n",
       "logreg_0         10.0           NaN          True                1.0   \n",
       "decision_tree_3   NaN           NaN           NaN                NaN   \n",
       "random_forest_2   NaN           NaN           NaN                NaN   \n",
       "\n",
       "                 random_state     solver  accuracy  ccp_alpha  max_depth  \\\n",
       "decision_tree_1           NaN        NaN  0.849918        0.0        NaN   \n",
       "logreg_0                 42.0  liblinear  0.843735        NaN        NaN   \n",
       "decision_tree_3           NaN        NaN  0.837633        0.0        NaN   \n",
       "random_forest_2           NaN        NaN  0.759173        5.0        NaN   \n",
       "\n",
       "                 min_samples_leaf  min_samples_split  n_estimators  \n",
       "decision_tree_1               1.0                0.1           NaN  \n",
       "logreg_0                      NaN                NaN           NaN  \n",
       "decision_tree_3               3.0                NaN           NaN  \n",
       "random_forest_2               1.0                0.1           1.0  "
      ]
     },
     "execution_count": 57,
     "metadata": {},
     "output_type": "execute_result"
    }
   ],
   "source": [
    "gsc.search(dt, params_dt, mod_name=\"decision_tree\")\n",
    "gsc.model_df.head()"
   ]
  },
  {
   "cell_type": "code",
   "execution_count": 29,
   "metadata": {},
   "outputs": [
    {
     "name": "stdout",
     "output_type": "stream",
     "text": [
      "Train accuracy: 0.8884111384111384\n",
      "Test accuracy: 0.8616877533472547\n"
     ]
    },
    {
     "data": {
      "text/html": [
       "<div>\n",
       "<style scoped>\n",
       "    .dataframe tbody tr th:only-of-type {\n",
       "        vertical-align: middle;\n",
       "    }\n",
       "\n",
       "    .dataframe tbody tr th {\n",
       "        vertical-align: top;\n",
       "    }\n",
       "\n",
       "    .dataframe thead th {\n",
       "        text-align: right;\n",
       "    }\n",
       "</style>\n",
       "<table border=\"1\" class=\"dataframe\">\n",
       "  <thead>\n",
       "    <tr style=\"text-align: right;\">\n",
       "      <th></th>\n",
       "      <th>ccp_alpha</th>\n",
       "      <th>max_depth</th>\n",
       "      <th>min_samples_leaf</th>\n",
       "      <th>n_estimators</th>\n",
       "      <th>accuracy</th>\n",
       "    </tr>\n",
       "  </thead>\n",
       "  <tbody>\n",
       "    <tr>\n",
       "      <th>random_forest_0</th>\n",
       "      <td>0.0</td>\n",
       "      <td>None</td>\n",
       "      <td>3</td>\n",
       "      <td>100</td>\n",
       "      <td>0.858354</td>\n",
       "    </tr>\n",
       "  </tbody>\n",
       "</table>\n",
       "</div>"
      ],
      "text/plain": [
       "                 ccp_alpha max_depth  min_samples_leaf  n_estimators  accuracy\n",
       "random_forest_0        0.0      None                 3           100  0.858354"
      ]
     },
     "execution_count": 29,
     "metadata": {},
     "output_type": "execute_result"
    }
   ],
   "source": [
    "gsc.search(rf, params_rf, mod_name=\"random_forest\")\n",
    "gsc.model_df.head()"
   ]
  },
  {
   "cell_type": "code",
   "execution_count": 64,
   "metadata": {},
   "outputs": [
    {
     "name": "stdout",
     "output_type": "stream",
     "text": [
      "Train accuracy: 0.9362407862407862\n",
      "Test accuracy: 0.8406829627809851\n"
     ]
    },
    {
     "data": {
      "text/html": [
       "<div>\n",
       "<style scoped>\n",
       "    .dataframe tbody tr th:only-of-type {\n",
       "        vertical-align: middle;\n",
       "    }\n",
       "\n",
       "    .dataframe tbody tr th {\n",
       "        vertical-align: top;\n",
       "    }\n",
       "\n",
       "    .dataframe thead th {\n",
       "        text-align: right;\n",
       "    }\n",
       "</style>\n",
       "<table border=\"1\" class=\"dataframe\">\n",
       "  <thead>\n",
       "    <tr style=\"text-align: right;\">\n",
       "      <th></th>\n",
       "      <th>C</th>\n",
       "      <th>class_weight</th>\n",
       "      <th>fit_intercept</th>\n",
       "      <th>intercept_scaling</th>\n",
       "      <th>random_state</th>\n",
       "      <th>solver</th>\n",
       "      <th>accuracy</th>\n",
       "      <th>ccp_alpha</th>\n",
       "      <th>max_depth</th>\n",
       "      <th>min_samples_leaf</th>\n",
       "      <th>min_samples_split</th>\n",
       "      <th>n_estimators</th>\n",
       "    </tr>\n",
       "  </thead>\n",
       "  <tbody>\n",
       "    <tr>\n",
       "      <th>decision_tree_1</th>\n",
       "      <td>NaN</td>\n",
       "      <td>NaN</td>\n",
       "      <td>NaN</td>\n",
       "      <td>NaN</td>\n",
       "      <td>NaN</td>\n",
       "      <td>NaN</td>\n",
       "      <td>0.849918</td>\n",
       "      <td>0.0</td>\n",
       "      <td>NaN</td>\n",
       "      <td>1.0</td>\n",
       "      <td>0.1</td>\n",
       "      <td>NaN</td>\n",
       "    </tr>\n",
       "    <tr>\n",
       "      <th>logreg_0</th>\n",
       "      <td>10.0</td>\n",
       "      <td>NaN</td>\n",
       "      <td>True</td>\n",
       "      <td>1.0</td>\n",
       "      <td>42.0</td>\n",
       "      <td>liblinear</td>\n",
       "      <td>0.843735</td>\n",
       "      <td>NaN</td>\n",
       "      <td>NaN</td>\n",
       "      <td>NaN</td>\n",
       "      <td>NaN</td>\n",
       "      <td>NaN</td>\n",
       "    </tr>\n",
       "    <tr>\n",
       "      <th>bagged_trees_4</th>\n",
       "      <td>NaN</td>\n",
       "      <td>NaN</td>\n",
       "      <td>NaN</td>\n",
       "      <td>NaN</td>\n",
       "      <td>NaN</td>\n",
       "      <td>NaN</td>\n",
       "      <td>0.837797</td>\n",
       "      <td>NaN</td>\n",
       "      <td>NaN</td>\n",
       "      <td>NaN</td>\n",
       "      <td>NaN</td>\n",
       "      <td>100.0</td>\n",
       "    </tr>\n",
       "    <tr>\n",
       "      <th>decision_tree_3</th>\n",
       "      <td>NaN</td>\n",
       "      <td>NaN</td>\n",
       "      <td>NaN</td>\n",
       "      <td>NaN</td>\n",
       "      <td>NaN</td>\n",
       "      <td>NaN</td>\n",
       "      <td>0.837633</td>\n",
       "      <td>0.0</td>\n",
       "      <td>NaN</td>\n",
       "      <td>3.0</td>\n",
       "      <td>NaN</td>\n",
       "      <td>NaN</td>\n",
       "    </tr>\n",
       "    <tr>\n",
       "      <th>random_forest_2</th>\n",
       "      <td>NaN</td>\n",
       "      <td>NaN</td>\n",
       "      <td>NaN</td>\n",
       "      <td>NaN</td>\n",
       "      <td>NaN</td>\n",
       "      <td>NaN</td>\n",
       "      <td>0.759173</td>\n",
       "      <td>5.0</td>\n",
       "      <td>NaN</td>\n",
       "      <td>1.0</td>\n",
       "      <td>0.1</td>\n",
       "      <td>1.0</td>\n",
       "    </tr>\n",
       "  </tbody>\n",
       "</table>\n",
       "</div>"
      ],
      "text/plain": [
       "                    C  class_weight fit_intercept  intercept_scaling  \\\n",
       "decision_tree_1   NaN           NaN           NaN                NaN   \n",
       "logreg_0         10.0           NaN          True                1.0   \n",
       "bagged_trees_4    NaN           NaN           NaN                NaN   \n",
       "decision_tree_3   NaN           NaN           NaN                NaN   \n",
       "random_forest_2   NaN           NaN           NaN                NaN   \n",
       "\n",
       "                 random_state     solver  accuracy  ccp_alpha  max_depth  \\\n",
       "decision_tree_1           NaN        NaN  0.849918        0.0        NaN   \n",
       "logreg_0                 42.0  liblinear  0.843735        NaN        NaN   \n",
       "bagged_trees_4            NaN        NaN  0.837797        NaN        NaN   \n",
       "decision_tree_3           NaN        NaN  0.837633        0.0        NaN   \n",
       "random_forest_2           NaN        NaN  0.759173        5.0        NaN   \n",
       "\n",
       "                 min_samples_leaf  min_samples_split  n_estimators  \n",
       "decision_tree_1               1.0                0.1           NaN  \n",
       "logreg_0                      NaN                NaN           NaN  \n",
       "bagged_trees_4                NaN                NaN         100.0  \n",
       "decision_tree_3               3.0                NaN           NaN  \n",
       "random_forest_2               1.0                0.1           1.0  "
      ]
     },
     "execution_count": 64,
     "metadata": {},
     "output_type": "execute_result"
    }
   ],
   "source": [
    "gsc.search(bag, params_bag, mod_name=\"bagged_trees\")\n",
    "gsc.model_df.head()"
   ]
  },
  {
   "cell_type": "code",
   "execution_count": 66,
   "metadata": {},
   "outputs": [
    {
     "name": "stdout",
     "output_type": "stream",
     "text": [
      "Train accuracy: 0.8550778050778051\n",
      "Test accuracy: 0.8474388895713058\n"
     ]
    },
    {
     "data": {
      "text/html": [
       "<div>\n",
       "<style scoped>\n",
       "    .dataframe tbody tr th:only-of-type {\n",
       "        vertical-align: middle;\n",
       "    }\n",
       "\n",
       "    .dataframe tbody tr th {\n",
       "        vertical-align: top;\n",
       "    }\n",
       "\n",
       "    .dataframe thead th {\n",
       "        text-align: right;\n",
       "    }\n",
       "</style>\n",
       "<table border=\"1\" class=\"dataframe\">\n",
       "  <thead>\n",
       "    <tr style=\"text-align: right;\">\n",
       "      <th></th>\n",
       "      <th>C</th>\n",
       "      <th>class_weight</th>\n",
       "      <th>fit_intercept</th>\n",
       "      <th>intercept_scaling</th>\n",
       "      <th>random_state</th>\n",
       "      <th>solver</th>\n",
       "      <th>accuracy</th>\n",
       "      <th>ccp_alpha</th>\n",
       "      <th>max_depth</th>\n",
       "      <th>min_samples_leaf</th>\n",
       "      <th>min_samples_split</th>\n",
       "      <th>n_estimators</th>\n",
       "      <th>knn__leaf_size</th>\n",
       "      <th>knn__n_neighbors</th>\n",
       "      <th>knn__p</th>\n",
       "      <th>knn__weights</th>\n",
       "    </tr>\n",
       "  </thead>\n",
       "  <tbody>\n",
       "    <tr>\n",
       "      <th>decision_tree_1</th>\n",
       "      <td>NaN</td>\n",
       "      <td>NaN</td>\n",
       "      <td>NaN</td>\n",
       "      <td>NaN</td>\n",
       "      <td>NaN</td>\n",
       "      <td>NaN</td>\n",
       "      <td>0.849918</td>\n",
       "      <td>0.0</td>\n",
       "      <td>NaN</td>\n",
       "      <td>1.0</td>\n",
       "      <td>0.1</td>\n",
       "      <td>NaN</td>\n",
       "      <td>NaN</td>\n",
       "      <td>NaN</td>\n",
       "      <td>NaN</td>\n",
       "      <td>NaN</td>\n",
       "    </tr>\n",
       "    <tr>\n",
       "      <th>logreg_0</th>\n",
       "      <td>10.0</td>\n",
       "      <td>NaN</td>\n",
       "      <td>True</td>\n",
       "      <td>1.0</td>\n",
       "      <td>42.0</td>\n",
       "      <td>liblinear</td>\n",
       "      <td>0.843735</td>\n",
       "      <td>NaN</td>\n",
       "      <td>NaN</td>\n",
       "      <td>NaN</td>\n",
       "      <td>NaN</td>\n",
       "      <td>NaN</td>\n",
       "      <td>NaN</td>\n",
       "      <td>NaN</td>\n",
       "      <td>NaN</td>\n",
       "      <td>NaN</td>\n",
       "    </tr>\n",
       "    <tr>\n",
       "      <th>knn_5</th>\n",
       "      <td>NaN</td>\n",
       "      <td>NaN</td>\n",
       "      <td>NaN</td>\n",
       "      <td>NaN</td>\n",
       "      <td>NaN</td>\n",
       "      <td>NaN</td>\n",
       "      <td>0.842506</td>\n",
       "      <td>NaN</td>\n",
       "      <td>NaN</td>\n",
       "      <td>NaN</td>\n",
       "      <td>NaN</td>\n",
       "      <td>NaN</td>\n",
       "      <td>30.0</td>\n",
       "      <td>21.0</td>\n",
       "      <td>1.0</td>\n",
       "      <td>uniform</td>\n",
       "    </tr>\n",
       "    <tr>\n",
       "      <th>bagged_trees_4</th>\n",
       "      <td>NaN</td>\n",
       "      <td>NaN</td>\n",
       "      <td>NaN</td>\n",
       "      <td>NaN</td>\n",
       "      <td>NaN</td>\n",
       "      <td>NaN</td>\n",
       "      <td>0.837797</td>\n",
       "      <td>NaN</td>\n",
       "      <td>NaN</td>\n",
       "      <td>NaN</td>\n",
       "      <td>NaN</td>\n",
       "      <td>100.0</td>\n",
       "      <td>NaN</td>\n",
       "      <td>NaN</td>\n",
       "      <td>NaN</td>\n",
       "      <td>NaN</td>\n",
       "    </tr>\n",
       "    <tr>\n",
       "      <th>decision_tree_3</th>\n",
       "      <td>NaN</td>\n",
       "      <td>NaN</td>\n",
       "      <td>NaN</td>\n",
       "      <td>NaN</td>\n",
       "      <td>NaN</td>\n",
       "      <td>NaN</td>\n",
       "      <td>0.837633</td>\n",
       "      <td>0.0</td>\n",
       "      <td>NaN</td>\n",
       "      <td>3.0</td>\n",
       "      <td>NaN</td>\n",
       "      <td>NaN</td>\n",
       "      <td>NaN</td>\n",
       "      <td>NaN</td>\n",
       "      <td>NaN</td>\n",
       "      <td>NaN</td>\n",
       "    </tr>\n",
       "  </tbody>\n",
       "</table>\n",
       "</div>"
      ],
      "text/plain": [
       "                    C  class_weight fit_intercept  intercept_scaling  \\\n",
       "decision_tree_1   NaN           NaN           NaN                NaN   \n",
       "logreg_0         10.0           NaN          True                1.0   \n",
       "knn_5             NaN           NaN           NaN                NaN   \n",
       "bagged_trees_4    NaN           NaN           NaN                NaN   \n",
       "decision_tree_3   NaN           NaN           NaN                NaN   \n",
       "\n",
       "                 random_state     solver  accuracy  ccp_alpha  max_depth  \\\n",
       "decision_tree_1           NaN        NaN  0.849918        0.0        NaN   \n",
       "logreg_0                 42.0  liblinear  0.843735        NaN        NaN   \n",
       "knn_5                     NaN        NaN  0.842506        NaN        NaN   \n",
       "bagged_trees_4            NaN        NaN  0.837797        NaN        NaN   \n",
       "decision_tree_3           NaN        NaN  0.837633        0.0        NaN   \n",
       "\n",
       "                 min_samples_leaf  min_samples_split  n_estimators  \\\n",
       "decision_tree_1               1.0                0.1           NaN   \n",
       "logreg_0                      NaN                NaN           NaN   \n",
       "knn_5                         NaN                NaN           NaN   \n",
       "bagged_trees_4                NaN                NaN         100.0   \n",
       "decision_tree_3               3.0                NaN           NaN   \n",
       "\n",
       "                 knn__leaf_size  knn__n_neighbors  knn__p knn__weights  \n",
       "decision_tree_1             NaN               NaN     NaN          NaN  \n",
       "logreg_0                    NaN               NaN     NaN          NaN  \n",
       "knn_5                      30.0              21.0     1.0      uniform  \n",
       "bagged_trees_4              NaN               NaN     NaN          NaN  \n",
       "decision_tree_3             NaN               NaN     NaN          NaN  "
      ]
     },
     "execution_count": 66,
     "metadata": {},
     "output_type": "execute_result"
    }
   ],
   "source": [
    "gsc.search(knn, params_knn, mod_name=\"knn\")\n",
    "gsc.model_df.head()"
   ]
  },
  {
   "cell_type": "code",
   "execution_count": 69,
   "metadata": {},
   "outputs": [
    {
     "name": "stdout",
     "output_type": "stream",
     "text": [
      "Train accuracy: 0.8507780507780508\n",
      "Test accuracy: 0.8527207959710109\n"
     ]
    },
    {
     "data": {
      "text/html": [
       "<div>\n",
       "<style scoped>\n",
       "    .dataframe tbody tr th:only-of-type {\n",
       "        vertical-align: middle;\n",
       "    }\n",
       "\n",
       "    .dataframe tbody tr th {\n",
       "        vertical-align: top;\n",
       "    }\n",
       "\n",
       "    .dataframe thead th {\n",
       "        text-align: right;\n",
       "    }\n",
       "</style>\n",
       "<table border=\"1\" class=\"dataframe\">\n",
       "  <thead>\n",
       "    <tr style=\"text-align: right;\">\n",
       "      <th></th>\n",
       "      <th>C</th>\n",
       "      <th>class_weight</th>\n",
       "      <th>fit_intercept</th>\n",
       "      <th>intercept_scaling</th>\n",
       "      <th>random_state</th>\n",
       "      <th>solver</th>\n",
       "      <th>accuracy</th>\n",
       "      <th>ccp_alpha</th>\n",
       "      <th>max_depth</th>\n",
       "      <th>min_samples_leaf</th>\n",
       "      <th>min_samples_split</th>\n",
       "      <th>n_estimators</th>\n",
       "      <th>knn__leaf_size</th>\n",
       "      <th>knn__n_neighbors</th>\n",
       "      <th>knn__p</th>\n",
       "      <th>knn__weights</th>\n",
       "      <th>svc__C</th>\n",
       "      <th>svc__kernel</th>\n",
       "    </tr>\n",
       "  </thead>\n",
       "  <tbody>\n",
       "    <tr>\n",
       "      <th>decision_tree_1</th>\n",
       "      <td>NaN</td>\n",
       "      <td>NaN</td>\n",
       "      <td>NaN</td>\n",
       "      <td>NaN</td>\n",
       "      <td>NaN</td>\n",
       "      <td>NaN</td>\n",
       "      <td>0.849918</td>\n",
       "      <td>0.0</td>\n",
       "      <td>NaN</td>\n",
       "      <td>1.0</td>\n",
       "      <td>0.1</td>\n",
       "      <td>NaN</td>\n",
       "      <td>NaN</td>\n",
       "      <td>NaN</td>\n",
       "      <td>NaN</td>\n",
       "      <td>NaN</td>\n",
       "      <td>NaN</td>\n",
       "      <td>NaN</td>\n",
       "    </tr>\n",
       "    <tr>\n",
       "      <th>SVC_6</th>\n",
       "      <td>NaN</td>\n",
       "      <td>NaN</td>\n",
       "      <td>NaN</td>\n",
       "      <td>NaN</td>\n",
       "      <td>NaN</td>\n",
       "      <td>NaN</td>\n",
       "      <td>0.847461</td>\n",
       "      <td>NaN</td>\n",
       "      <td>NaN</td>\n",
       "      <td>NaN</td>\n",
       "      <td>NaN</td>\n",
       "      <td>NaN</td>\n",
       "      <td>NaN</td>\n",
       "      <td>NaN</td>\n",
       "      <td>NaN</td>\n",
       "      <td>NaN</td>\n",
       "      <td>1.0</td>\n",
       "      <td>rbf</td>\n",
       "    </tr>\n",
       "    <tr>\n",
       "      <th>logreg_0</th>\n",
       "      <td>10.0</td>\n",
       "      <td>NaN</td>\n",
       "      <td>True</td>\n",
       "      <td>1.0</td>\n",
       "      <td>42.0</td>\n",
       "      <td>liblinear</td>\n",
       "      <td>0.843735</td>\n",
       "      <td>NaN</td>\n",
       "      <td>NaN</td>\n",
       "      <td>NaN</td>\n",
       "      <td>NaN</td>\n",
       "      <td>NaN</td>\n",
       "      <td>NaN</td>\n",
       "      <td>NaN</td>\n",
       "      <td>NaN</td>\n",
       "      <td>NaN</td>\n",
       "      <td>NaN</td>\n",
       "      <td>NaN</td>\n",
       "    </tr>\n",
       "    <tr>\n",
       "      <th>knn_5</th>\n",
       "      <td>NaN</td>\n",
       "      <td>NaN</td>\n",
       "      <td>NaN</td>\n",
       "      <td>NaN</td>\n",
       "      <td>NaN</td>\n",
       "      <td>NaN</td>\n",
       "      <td>0.842506</td>\n",
       "      <td>NaN</td>\n",
       "      <td>NaN</td>\n",
       "      <td>NaN</td>\n",
       "      <td>NaN</td>\n",
       "      <td>NaN</td>\n",
       "      <td>30.0</td>\n",
       "      <td>21.0</td>\n",
       "      <td>1.0</td>\n",
       "      <td>uniform</td>\n",
       "      <td>NaN</td>\n",
       "      <td>NaN</td>\n",
       "    </tr>\n",
       "    <tr>\n",
       "      <th>bagged_trees_4</th>\n",
       "      <td>NaN</td>\n",
       "      <td>NaN</td>\n",
       "      <td>NaN</td>\n",
       "      <td>NaN</td>\n",
       "      <td>NaN</td>\n",
       "      <td>NaN</td>\n",
       "      <td>0.837797</td>\n",
       "      <td>NaN</td>\n",
       "      <td>NaN</td>\n",
       "      <td>NaN</td>\n",
       "      <td>NaN</td>\n",
       "      <td>100.0</td>\n",
       "      <td>NaN</td>\n",
       "      <td>NaN</td>\n",
       "      <td>NaN</td>\n",
       "      <td>NaN</td>\n",
       "      <td>NaN</td>\n",
       "      <td>NaN</td>\n",
       "    </tr>\n",
       "  </tbody>\n",
       "</table>\n",
       "</div>"
      ],
      "text/plain": [
       "                    C  class_weight fit_intercept  intercept_scaling  \\\n",
       "decision_tree_1   NaN           NaN           NaN                NaN   \n",
       "SVC_6             NaN           NaN           NaN                NaN   \n",
       "logreg_0         10.0           NaN          True                1.0   \n",
       "knn_5             NaN           NaN           NaN                NaN   \n",
       "bagged_trees_4    NaN           NaN           NaN                NaN   \n",
       "\n",
       "                 random_state     solver  accuracy  ccp_alpha  max_depth  \\\n",
       "decision_tree_1           NaN        NaN  0.849918        0.0        NaN   \n",
       "SVC_6                     NaN        NaN  0.847461        NaN        NaN   \n",
       "logreg_0                 42.0  liblinear  0.843735        NaN        NaN   \n",
       "knn_5                     NaN        NaN  0.842506        NaN        NaN   \n",
       "bagged_trees_4            NaN        NaN  0.837797        NaN        NaN   \n",
       "\n",
       "                 min_samples_leaf  min_samples_split  n_estimators  \\\n",
       "decision_tree_1               1.0                0.1           NaN   \n",
       "SVC_6                         NaN                NaN           NaN   \n",
       "logreg_0                      NaN                NaN           NaN   \n",
       "knn_5                         NaN                NaN           NaN   \n",
       "bagged_trees_4                NaN                NaN         100.0   \n",
       "\n",
       "                 knn__leaf_size  knn__n_neighbors  knn__p knn__weights  \\\n",
       "decision_tree_1             NaN               NaN     NaN          NaN   \n",
       "SVC_6                       NaN               NaN     NaN          NaN   \n",
       "logreg_0                    NaN               NaN     NaN          NaN   \n",
       "knn_5                      30.0              21.0     1.0      uniform   \n",
       "bagged_trees_4              NaN               NaN     NaN          NaN   \n",
       "\n",
       "                 svc__C svc__kernel  \n",
       "decision_tree_1     NaN         NaN  \n",
       "SVC_6               1.0         rbf  \n",
       "logreg_0            NaN         NaN  \n",
       "knn_5               NaN         NaN  \n",
       "bagged_trees_4      NaN         NaN  "
      ]
     },
     "execution_count": 69,
     "metadata": {},
     "output_type": "execute_result"
    }
   ],
   "source": [
    "gsc.search(svc, params_svc, mod_name=\"SVC\")\n",
    "gsc.model_df.head()"
   ]
  },
  {
   "cell_type": "code",
   "execution_count": 38,
   "metadata": {},
   "outputs": [
    {
     "data": {
      "text/plain": [
       "RandomForestClassifier(min_samples_leaf=3)"
      ]
     },
     "execution_count": 38,
     "metadata": {},
     "output_type": "execute_result"
    }
   ],
   "source": [
    "best_models = gsc.best_models\n",
    "models = [mod[0] for mod in best_models]\n",
    "scores = [mod[1] for mod in best_models]\n",
    "#plt.figure(figsize=(16,9))\n",
    "#[\"Logistic Regression\", \"Decision Tree\", \"Random Forest\", \"Deci\"]\n",
    "best_model = best_models[-1][0]\n",
    "best_model"
   ]
  },
  {
   "cell_type": "code",
   "execution_count": 39,
   "metadata": {},
   "outputs": [
    {
     "data": {
      "text/plain": [
       "[(RandomForestClassifier(min_samples_leaf=3), 0.8583538083538084)]"
      ]
     },
     "execution_count": 39,
     "metadata": {},
     "output_type": "execute_result"
    }
   ],
   "source": [
    "best_models"
   ]
  },
  {
   "cell_type": "code",
   "execution_count": 67,
   "metadata": {},
   "outputs": [],
   "source": [
    "# Read in training data\n",
    "\n",
    "df = pd.read_csv(\"data/large_train_sample.csv\")"
   ]
  },
  {
   "cell_type": "code",
   "execution_count": 68,
   "metadata": {},
   "outputs": [],
   "source": [
    "# Binarize features\n",
    "\n",
    "df['wage'] = df['wage'].apply(lambda a: int(a==' >50K'))\n",
    "\n",
    "df['is_usa'] = df['native-country'].apply(lambda a: int(a==' United-States'))\n",
    "\n",
    "df[\"is_top7_occ\"] = df[\"occupation\"].apply(lambda a: int(a==' Exec-managerial'\n",
    "                                                       or a==' Prof-specialty'\n",
    "                                                       or a==' Protective-serv'\n",
    "                                                       or a==' Tech-support'\n",
    "                                                       or a==' Sales'\n",
    "                                                       or a==' Craft-repair'\n",
    "                                                       or a==' Transport-moving'))\n",
    "\n",
    "df[\"is_high_ed\"] = df[\"education\"].apply(lambda a: int(a==' Doctorate'\n",
    "                                                       or a==' Prof-school'\n",
    "                                                       or a==' Bachelors'\n",
    "                                                       or a==' Masters'))\n",
    "\n",
    "df[\"is_married\"] = df[\"marital-status\"].apply(lambda a: int(a==' Married-civ-spouse' or a==' Married-AF-spouse'))\n",
    "\n",
    "df[\"is_male\"] = df[\"sex\"].apply(lambda a: int(a==' Male'))"
   ]
  },
  {
   "cell_type": "code",
   "execution_count": 70,
   "metadata": {},
   "outputs": [],
   "source": [
    "features = ['age', 'education-num', 'capital-gain',\n",
    "       'capital-loss', 'hours-per-week', 'is_usa',\n",
    "       'is_top7_occ','is_married', 'is_male',\n",
    "       'is_high_ed']\n",
    "\n",
    "X = df[features]\n",
    "y = df['wage']\n",
    "\n",
    "X_train, X_test, y_train, y_test = train_test_split(X, y, random_state=42, stratify=y)\n",
    "\n",
    "best_model.fit(X_train, y_train)\n",
    "\n",
    "preds = best_model.predict(X_test)\n",
    "\n",
    "final_df = pd.DataFrame({\"wage_predictions\": preds})"
   ]
  },
  {
   "cell_type": "code",
   "execution_count": 71,
   "metadata": {},
   "outputs": [
    {
     "data": {
      "text/html": [
       "<div>\n",
       "<style scoped>\n",
       "    .dataframe tbody tr th:only-of-type {\n",
       "        vertical-align: middle;\n",
       "    }\n",
       "\n",
       "    .dataframe tbody tr th {\n",
       "        vertical-align: top;\n",
       "    }\n",
       "\n",
       "    .dataframe thead th {\n",
       "        text-align: right;\n",
       "    }\n",
       "</style>\n",
       "<table border=\"1\" class=\"dataframe\">\n",
       "  <thead>\n",
       "    <tr style=\"text-align: right;\">\n",
       "      <th></th>\n",
       "      <th>wage_predictions</th>\n",
       "    </tr>\n",
       "  </thead>\n",
       "  <tbody>\n",
       "    <tr>\n",
       "      <th>0</th>\n",
       "      <td>0</td>\n",
       "    </tr>\n",
       "    <tr>\n",
       "      <th>1</th>\n",
       "      <td>0</td>\n",
       "    </tr>\n",
       "    <tr>\n",
       "      <th>2</th>\n",
       "      <td>0</td>\n",
       "    </tr>\n",
       "    <tr>\n",
       "      <th>3</th>\n",
       "      <td>0</td>\n",
       "    </tr>\n",
       "    <tr>\n",
       "      <th>4</th>\n",
       "      <td>0</td>\n",
       "    </tr>\n",
       "  </tbody>\n",
       "</table>\n",
       "</div>"
      ],
      "text/plain": [
       "   wage_predictions\n",
       "0                 0\n",
       "1                 0\n",
       "2                 0\n",
       "3                 0\n",
       "4                 0"
      ]
     },
     "execution_count": 71,
     "metadata": {},
     "output_type": "execute_result"
    }
   ],
   "source": [
    "final_df.head()"
   ]
  },
  {
   "cell_type": "code",
   "execution_count": 73,
   "metadata": {},
   "outputs": [],
   "source": [
    "final_df.to_csv(\"data/test_predictions.csv\",index=False)"
   ]
  },
  {
   "cell_type": "code",
   "execution_count": 72,
   "metadata": {},
   "outputs": [],
   "source": [
    "# preds = best_model.predict(X)"
   ]
  },
  {
   "cell_type": "code",
   "execution_count": 74,
   "metadata": {},
   "outputs": [
    {
     "data": {
      "image/png": "[encoded data removed]",
      "text/plain": [
       "<Figure size 432x288 with 2 Axes>"
      ]
     },
     "metadata": {
      "needs_background": "light"
     },
     "output_type": "display_data"
    }
   ],
   "source": [
    "plot_confusion_matrix(best_model, X_test, y_test, cmap='Greens', values_format='d');\n",
    "plt.savefig(\"confusion_matrix.png\", transparent = True, facecolor=\"black\")"
   ]
  },
  {
   "cell_type": "code",
   "execution_count": 75,
   "metadata": {},
   "outputs": [],
   "source": [
    "from sklearn.metrics import confusion_matrix, plot_confusion_matrix"
   ]
  },
  {
   "cell_type": "code",
   "execution_count": 76,
   "metadata": {},
   "outputs": [
    {
     "data": {
      "text/plain": [
       "0    0.759243\n",
       "1    0.240757\n",
       "Name: wage, dtype: float64"
      ]
     },
     "execution_count": 76,
     "metadata": {},
     "output_type": "execute_result"
    }
   ],
   "source": [
    "y_test.value_counts(normalize=True)"
   ]
  },
  {
   "cell_type": "code",
   "execution_count": 77,
   "metadata": {},
   "outputs": [],
   "source": [
    "tn, fp, fn, tp = confusion_matrix(y_test, preds).ravel()"
   ]
  },
  {
   "cell_type": "code",
   "execution_count": 78,
   "metadata": {},
   "outputs": [
    {
     "name": "stdout",
     "output_type": "stream",
     "text": [
      "-----------------False------------------\n",
      "(0,0) True Negative - 5812\n",
      "(0,1) False Positive - 369\n",
      "------------------True------------------\n",
      "(1,0) False Negative - 758\n",
      "(1,1) True Positive - 1202\n"
     ]
    }
   ],
   "source": [
    "# FOR VERIFICATION AND INTERPRETABILITY OF ABOVE\n",
    "print('False'.center(40, \"-\"))\n",
    "print(f'(0,0) True Negative - {tn}')\n",
    "print(f'(0,1) False Positive - {fp}')\n",
    "print('True'.center(40, \"-\"))\n",
    "print(f'(1,0) False Negative - {fn}')\n",
    "print(f'(1,1) True Positive - {tp}')"
   ]
  },
  {
   "cell_type": "code",
   "execution_count": 80,
   "metadata": {},
   "outputs": [
    {
     "name": "stdout",
     "output_type": "stream",
     "text": [
      "Model Predicted Score: 0.8615649183147034\n",
      "\n",
      "Specificity: 0.9403009221808769 - Our goal was to maximize this metric in order to best predict individuals that earn under $50,000 in wages.\n",
      "\n",
      "Sensitivity: 0.613265306122449 - Our model did not do well in predicting individuals that make over $50,000 in wages\n",
      "\n",
      "Precision: 0.7651177593889242 - \n"
     ]
    }
   ],
   "source": [
    "# Model Prediction\n",
    "print(f'Model Predicted Score: {(tn + tp) / (tn + tp + fn + fp)}')\n",
    "print()\n",
    "\n",
    "# Calculate the specificity\n",
    "spec = tn / (tn + fp)\n",
    "print(f'Specificity: {spec} - Our goal was to maximize this metric in order to best predict individuals that earn under $50,000 in wages.')\n",
    "print()\n",
    "\n",
    "# Sensitivity\n",
    "sens = tp / (tp + fn)\n",
    "print(F'Sensitivity: {sens} - Our model did not do well in predicting individuals that make over $50,000 in wages')\n",
    "print()\n",
    "\n",
    "# Precision\n",
    "prec = tp / (tp + fp)\n",
    "print(f'Precision: {prec} - ')\n"
   ]
  },
  {
   "cell_type": "code",
   "execution_count": null,
   "metadata": {},
   "outputs": [],
   "source": []
  }
 ],
 "metadata": {
  "kernelspec": {
   "display_name": "Python 3",
   "language": "python",
   "name": "python3"
  },
  "language_info": {
   "codemirror_mode": {
    "name": "ipython",
    "version": 3
   },
   "file_extension": ".py",
   "mimetype": "text/x-python",
   "name": "python",
   "nbconvert_exporter": "python",
   "pygments_lexer": "ipython3",
   "version": "3.6.10"
  }
 },
 "nbformat": 4,
 "nbformat_minor": 4
}

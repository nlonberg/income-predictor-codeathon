{
 "cells": [
  {
   "cell_type": "code",
   "execution_count": 29,
   "metadata": {},
   "outputs": [],
   "source": [
    "%run code/helper_functions.ipynb"
   ]
  },
  {
   "cell_type": "code",
   "execution_count": 12,
   "metadata": {},
   "outputs": [],
   "source": [
    "# Read in the data\n",
    "df = pd.read_csv(\"data/large_train_sample.csv\")"
   ]
  },
  {
   "cell_type": "code",
   "execution_count": 13,
   "metadata": {},
   "outputs": [],
   "source": [
    "# Create list of continuous variables\n",
    "cont_vars = ['education-num', 'age', 'hours-per-week', 'capital-gain', 'capital-loss', 'fnlwgt']"
   ]
  },
  {
   "cell_type": "code",
   "execution_count": 14,
   "metadata": {},
   "outputs": [],
   "source": [
    "# Binarize wage\n",
    "df['wage'] = df['wage'].apply(lambda a: int(a==' >50K'))"
   ]
  },
  {
   "cell_type": "code",
   "execution_count": 15,
   "metadata": {},
   "outputs": [
    {
     "data": {
      "text/plain": [
       "marital-status\n",
       " Married-civ-spouse       0.446848\n",
       " Married-AF-spouse        0.434783\n",
       " Divorced                 0.104209\n",
       " Widowed                  0.085599\n",
       " Married-spouse-absent    0.081340\n",
       " Separated                0.064390\n",
       " Never-married            0.045961\n",
       "Name: wage, dtype: float64"
      ]
     },
     "execution_count": 15,
     "metadata": {},
     "output_type": "execute_result"
    }
   ],
   "source": [
    "# Get mean wage by marital status\n",
    "df.groupby(by=\"marital-status\").mean()['wage'].sort_values(ascending=False)"
   ]
  },
  {
   "cell_type": "code",
   "execution_count": 16,
   "metadata": {},
   "outputs": [
    {
     "data": {
      "text/plain": [
       "occupation\n",
       " Prof-specialty       4140\n",
       " Craft-repair         4099\n",
       " Exec-managerial      4066\n",
       " Adm-clerical         3770\n",
       " Sales                3650\n",
       " Other-service        3295\n",
       " Machine-op-inspct    2002\n",
       " ?                    1843\n",
       " Transport-moving     1597\n",
       " Handlers-cleaners    1370\n",
       " Farming-fishing       994\n",
       " Tech-support          928\n",
       " Protective-serv       649\n",
       " Priv-house-serv       149\n",
       " Armed-Forces            9\n",
       "Name: wage, dtype: int64"
      ]
     },
     "execution_count": 16,
     "metadata": {},
     "output_type": "execute_result"
    }
   ],
   "source": [
    "# Find the number of rows for each occupation category\n",
    "df.groupby(by=\"occupation\").count()['wage'].sort_values(ascending=False)"
   ]
  },
  {
   "cell_type": "code",
   "execution_count": 17,
   "metadata": {},
   "outputs": [
    {
     "data": {
      "text/plain": [
       "education\n",
       " HS-grad         10501\n",
       " Some-college     7291\n",
       " Bachelors        5355\n",
       " Masters          1723\n",
       " Assoc-voc        1382\n",
       " 11th             1175\n",
       " Assoc-acdm       1067\n",
       " 10th              933\n",
       " 7th-8th           646\n",
       " Prof-school       576\n",
       " 9th               514\n",
       " 12th              433\n",
       " Doctorate         413\n",
       " 5th-6th           333\n",
       " 1st-4th           168\n",
       " Preschool          51\n",
       "Name: wage, dtype: int64"
      ]
     },
     "execution_count": 17,
     "metadata": {},
     "output_type": "execute_result"
    }
   ],
   "source": [
    "# Find the number of rows for each education category\n",
    "df.groupby(by=\"education\").count()['wage'].sort_values(ascending=False)"
   ]
  },
  {
   "cell_type": "code",
   "execution_count": null,
   "metadata": {},
   "outputs": [],
   "source": [
    "# Create a column that binarizes from the United States and from other countries\n",
    "# Append created column to continuous variables list\n",
    "df['is_usa'] = df['native-country'].apply(lambda a: int(a==' United-States'))\n",
    "cont_vars.append(\"is_usa\")"
   ]
  },
  {
   "cell_type": "code",
   "execution_count": null,
   "metadata": {},
   "outputs": [],
   "source": [
    "# Create columns that group the top 7, 4, and 2 occupations\n",
    "# Append created columns to continuous variables list\n",
    "df[\"is_top7_occ\"] = df[\"occupation\"].apply(lambda a: int(a==' Exec-managerial'\n",
    "                                                       or a==' Prof-specialty'\n",
    "                                                       or a==' Protective-serv'\n",
    "                                                       or a==' Tech-support'\n",
    "                                                       or a==' Sales'\n",
    "                                                       or a==' Craft-repair'\n",
    "                                                       or a==' Transport-moving'))\n",
    "cont_vars.append(\"is_top7_occ\")\n",
    "\n",
    "df['is_top4_occ'] = df[\"occupation\"].apply(lambda a: int(a==' Exec-managerial'\n",
    "                                                       or a==' Prof-specialty'\n",
    "                                                       or a==' Protective-serv'\n",
    "                                                       or a==' Tech-support'))\n",
    "cont_vars.append(\"is_top4_occ\")\n",
    "\n",
    "df[\"is_top2_occ\"] = df[\"occupation\"].apply(lambda a: int(a==' Exec-managerial'\n",
    "                                                       or a==' Prof-specialty'))\n",
    "cont_vars.append(\"is_top2_occ\")"
   ]
  },
  {
   "cell_type": "code",
   "execution_count": null,
   "metadata": {},
   "outputs": [],
   "source": [
    "# Create a column for married vs not married\n",
    "# Append created column to continuous variables list\n",
    "df[\"is_married\"] = df[\"marital-status\"].apply(lambda a: int(a==' Married-civ-spouse' or a==' Married-AF-spouse'))\n",
    "cont_vars.append('is_married')"
   ]
  },
  {
   "cell_type": "code",
   "execution_count": null,
   "metadata": {},
   "outputs": [],
   "source": [
    "# Create a column to binarize sex\n",
    "# Append created column to continuous variables list\n",
    "df[\"is_male\"] = df[\"sex\"].apply(lambda a: int(a==' Male'))\n",
    "cont_vars.append('is_male')"
   ]
  },
  {
   "cell_type": "code",
   "execution_count": 18,
   "metadata": {},
   "outputs": [],
   "source": [
    "# Create columns of higher education\n",
    "# Append created columns to continuous variables list\n",
    "df[\"is_high_ed\"] = df[\"education\"].apply(lambda a: int(a==' Doctorate'\n",
    "                                                       or a==' Prof-school'\n",
    "                                                       or a==' Bachelors'\n",
    "                                                       or a==' Masters'))\n",
    "cont_vars.append('is_high_ed')\n",
    "\n",
    "\n",
    "df['is_doct_or_prof'] = df[\"education\"].apply(lambda a: int(a==' Doctorate'\n",
    "                                                            or a==' Prof-school'))\n",
    "cont_vars.append('is_doct_or_prof')\n",
    "\n",
    "df[\"is_hs_grad\"] = df[\"education\"].apply(lambda a: int(a==' Doctorate'\n",
    "                                                       or a==' Prof-school'\n",
    "                                                       or a==' Bachelors'\n",
    "                                                       or a==' Masters'\n",
    "                                                       or a==' Assoc-voc'\n",
    "                                                       or a==' Assoc-acdm'\n",
    "                                                       or a==' Some-college'\n",
    "                                                       or a==' HS-grad'\n",
    "                                                      ))\n",
    "cont_vars.append('is_hs_grad')"
   ]
  },
  {
   "cell_type": "code",
   "execution_count": 19,
   "metadata": {},
   "outputs": [],
   "source": [
    "# Write dataframe to csv\n",
    "df.to_csv(\"data/train_CLEAN.csv\",index=False)"
   ]
  },
  {
   "cell_type": "code",
   "execution_count": 30,
   "metadata": {},
   "outputs": [
    {
     "data": {
      "text/plain": [
       "wage               1.000000\n",
       "is_married         0.445289\n",
       "education-num      0.335154\n",
       "is_high_ed         0.327168\n",
       "is_high_ed         0.327168\n",
       "is_top4_occ        0.307887\n",
       "is_top2_occ        0.306207\n",
       "is_top7_occ        0.284013\n",
       "age                0.234037\n",
       "hours-per-week     0.229689\n",
       "capital-gain       0.223329\n",
       "is_male            0.215980\n",
       "is_doct_or_prof    0.205437\n",
       "is_doct_or_prof    0.205437\n",
       "is_hs_grad         0.166292\n",
       "is_hs_grad         0.166292\n",
       "capital-loss       0.150526\n",
       "is_usa             0.034470\n",
       "fnlwgt            -0.009463\n",
       "1                       NaN\n",
       "Name: wage, dtype: float64"
      ]
     },
     "execution_count": 30,
     "metadata": {},
     "output_type": "execute_result"
    }
   ],
   "source": [
    "# Create list of correlation between continuous variables by wage\n",
    "display_poly_corr(df, cont_vars, \"wage\", degree=1).head(20)"
   ]
  },
  {
   "cell_type": "code",
   "execution_count": 31,
   "metadata": {},
   "outputs": [
    {
     "data": {
      "text/plain": [
       "wage                            1.000000\n",
       "education-num is_married        0.525309\n",
       "is_married is_hs_grad           0.481351\n",
       "is_married is_hs_grad           0.481351\n",
       "is_top7_occ is_married          0.462759\n",
       "hours-per-week is_married       0.459110\n",
       "is_top4_occ is_married          0.447514\n",
       "is_married is_high_ed           0.446700\n",
       "is_married is_high_ed           0.446700\n",
       "is_married^2                    0.445289\n",
       "is_married                      0.445289\n",
       "age is_married                  0.441018\n",
       "is_top2_occ is_married          0.429034\n",
       "is_usa is_married               0.423658\n",
       "is_married is_male              0.399154\n",
       "education-num age               0.393086\n",
       "education-num hours-per-week    0.371399\n",
       "is_male is_high_ed              0.361715\n",
       "is_male is_high_ed              0.361715\n",
       "fnlwgt is_married               0.360410\n",
       "education-num is_top7_occ       0.359142\n",
       "age is_high_ed                  0.357591\n",
       "age is_high_ed                  0.357591\n",
       "education-num^2                 0.357138\n",
       "is_top4_occ is_male             0.354080\n",
       "age is_top7_occ                 0.350022\n",
       "is_top2_occ is_male             0.349982\n",
       "hours-per-week is_high_ed       0.349638\n",
       "hours-per-week is_high_ed       0.349638\n",
       "is_top7_occ is_high_ed          0.345645\n",
       "is_top7_occ is_high_ed          0.345645\n",
       "age is_top4_occ                 0.342203\n",
       "education-num is_top4_occ       0.337738\n",
       "education-num is_high_ed        0.335299\n",
       "education-num is_high_ed        0.335299\n",
       "education-num                   0.335154\n",
       "age is_top2_occ                 0.333339\n",
       "hours-per-week is_top4_occ      0.332671\n",
       "hours-per-week is_top7_occ      0.331752\n",
       "education-num is_male           0.331585\n",
       "education-num is_top2_occ       0.331291\n",
       "hours-per-week is_top2_occ      0.327938\n",
       "is_high_ed is_high_ed           0.327168\n",
       "is_high_ed^2                    0.327168\n",
       "is_high_ed is_hs_grad           0.327168\n",
       "is_high_ed                      0.327168\n",
       "is_high_ed is_hs_grad           0.327168\n",
       "is_hs_grad is_high_ed           0.327168\n",
       "is_high_ed^2                    0.327168\n",
       "is_high_ed                      0.327168\n",
       "Name: wage, dtype: float64"
      ]
     },
     "execution_count": 31,
     "metadata": {},
     "output_type": "execute_result"
    }
   ],
   "source": [
    "# Create list of correlation between interacting variables by wage\n",
    "display_poly_corr(df, cont_vars, \"wage\", degree=2).head(50)"
   ]
  },
  {
   "cell_type": "markdown",
   "metadata": {},
   "source": [
    "It seems that no interacting variables performed substantially better than the sum of their parts, so we won't include them. Since we are limiting ourselves to 10 features, we will use the following:"
   ]
  },
  {
   "cell_type": "code",
   "execution_count": 1,
   "metadata": {},
   "outputs": [],
   "source": [
    "features = ['age', 'education-num', 'capital-gain',\n",
    "       'capital-loss', 'hours-per-week', 'is_usa',\n",
    "       'is_top7_occ','is_married', 'is_male',\n",
    "       'is_high_ed']"
   ]
  }
 ],
 "metadata": {
  "kernelspec": {
   "display_name": "Python 3",
   "language": "python",
   "name": "python3"
  },
  "language_info": {
   "codemirror_mode": {
    "name": "ipython",
    "version": 3
   },
   "file_extension": ".py",
   "mimetype": "text/x-python",
   "name": "python",
   "nbconvert_exporter": "python",
   "pygments_lexer": "ipython3",
   "version": "3.7.6"
  }
 },
 "nbformat": 4,
 "nbformat_minor": 4
}
